{
 "cells": [
  {
   "cell_type": "markdown",
   "id": "c7b56626",
   "metadata": {},
   "source": [
    "### Seaborn\n",
    "Seaborn es una biblioteca de visualización de datos de Python basada en matplotlib. Proporciona una interfaz de alto nivel para dibujar Gráficos estadísticos atractivos e informativos.\n",
    "\n",
    "![Seaborn](./assets/logo.svg \"Seaborn\")"
   ]
  },
  {
   "cell_type": "markdown",
   "id": "25635853",
   "metadata": {},
   "source": [
    "##### Instalación\n"
   ]
  },
  {
   "cell_type": "code",
   "execution_count": null,
   "id": "6daa5f70",
   "metadata": {},
   "outputs": [],
   "source": [
    "%pip install seaborn   # También puedes prefijar con ! o con nada si usas terminales."
   ]
  },
  {
   "cell_type": "markdown",
   "id": "54cae6ab",
   "metadata": {},
   "source": [
    "##### Importación"
   ]
  },
  {
   "cell_type": "code",
   "execution_count": null,
   "id": "1aff4631",
   "metadata": {},
   "outputs": [],
   "source": [
    "import seaborn as sns"
   ]
  }
 ],
 "metadata": {
  "kernelspec": {
   "display_name": ".venv",
   "language": "python",
   "name": "python3"
  },
  "language_info": {
   "codemirror_mode": {
    "name": "ipython",
    "version": 3
   },
   "file_extension": ".py",
   "mimetype": "text/x-python",
   "name": "python",
   "nbconvert_exporter": "python",
   "pygments_lexer": "ipython3",
   "version": "3.10.12"
  }
 },
 "nbformat": 4,
 "nbformat_minor": 5
}
